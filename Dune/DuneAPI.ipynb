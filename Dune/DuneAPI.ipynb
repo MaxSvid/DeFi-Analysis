{
 "cells": [
  {
   "cell_type": "markdown",
   "id": "81a81b25",
   "metadata": {},
   "source": [
    "### References\n",
    "\n",
    "Website ---> https://dune.com/home\n",
    "\n",
    "Sim API ---> https://sim.dune.com/\n",
    " \n"
   ]
  }
 ],
 "metadata": {
  "language_info": {
   "name": "python"
  }
 },
 "nbformat": 4,
 "nbformat_minor": 5
}
