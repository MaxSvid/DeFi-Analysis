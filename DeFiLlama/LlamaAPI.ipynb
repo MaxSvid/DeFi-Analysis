{
 "cells": [
  {
   "cell_type": "code",
   "execution_count": null,
   "id": "70fea6fe",
   "metadata": {},
   "outputs": [],
   "source": [
    "import pandas as pd\n",
    "import requests\n",
    "from datetime import datetime\n",
    "import math"
   ]
  },
  {
   "cell_type": "markdown",
   "id": "8baa9f42",
   "metadata": {},
   "source": [
    "Protocols TVL(Total Value Locked) data ---> https://api-docs.defillama.com/\n",
    "\n",
    "Requests library ---> https://requests.readthedocs.io/en/latest/"
   ]
  },
  {
   "cell_type": "code",
   "execution_count": 4,
   "id": "4cee3239",
   "metadata": {},
   "outputs": [],
   "source": [
    "baseUrl = 'https://api.llama.fi'"
   ]
  },
  {
   "cell_type": "code",
   "execution_count": null,
   "id": "aad7ea06",
   "metadata": {},
   "outputs": [
    {
     "name": "stdout",
     "output_type": "stream",
     "text": [
      "<Response [200]>\n"
     ]
    }
   ],
   "source": [
    "# Protocols list endpoint with requests\n",
    "protocols = requests.get(baseUrl + '/protocols')\n",
    "print(protocols)"
   ]
  },
  {
   "cell_type": "code",
   "execution_count": 8,
   "id": "d9b47b61",
   "metadata": {},
   "outputs": [
    {
     "name": "stdout",
     "output_type": "stream",
     "text": [
      "Connected to Llama API successful\n"
     ]
    }
   ],
   "source": [
    "if protocols.status_code == 200:\n",
    "    protocols_data = protocols.json()\n",
    "    print(\"Connected to Llama API successful\")\n",
    "else:\n",
    "    print(f\"Error: couldn't connect to Llama API {protocols.status_code}\")"
   ]
  },
  {
   "cell_type": "markdown",
   "id": "7f09b204",
   "metadata": {},
   "source": [
    "### List of all attributes and methods available on below "
   ]
  },
  {
   "cell_type": "code",
   "execution_count": null,
   "id": "e85b0b46",
   "metadata": {},
   "outputs": [],
   "source": [
    "#1 \n",
    "dir(protocols)"
   ]
  },
  {
   "cell_type": "code",
   "execution_count": null,
   "id": "3a81845d",
   "metadata": {},
   "outputs": [],
   "source": [
    "#2"
   ]
  }
 ],
 "metadata": {
  "kernelspec": {
   "display_name": "base",
   "language": "python",
   "name": "python3"
  },
  "language_info": {
   "codemirror_mode": {
    "name": "ipython",
    "version": 3
   },
   "file_extension": ".py",
   "mimetype": "text/x-python",
   "name": "python",
   "nbconvert_exporter": "python",
   "pygments_lexer": "ipython3",
   "version": "3.12.7"
  }
 },
 "nbformat": 4,
 "nbformat_minor": 5
}
