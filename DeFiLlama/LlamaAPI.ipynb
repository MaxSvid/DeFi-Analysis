{
 "cells": [
  {
   "cell_type": "code",
   "execution_count": 30,
   "id": "70fea6fe",
   "metadata": {},
   "outputs": [],
   "source": [
    "import pandas as pd\n",
    "import requests\n",
    "import json\n",
    "from datetime import datetime\n",
    "import math"
   ]
  },
  {
   "cell_type": "markdown",
   "id": "8baa9f42",
   "metadata": {},
   "source": [
    "### References \n",
    "\n",
    "1. Protocols TVL(Total Value Locked) data ---> https://api-docs.defillama.com/\n",
    "\n",
    "2. All DeFi Llama Protocols ---> https://api.llama.fi/protocols\n",
    "\n",
    "3. requests library ---> https://requests.readthedocs.io/en/latest/\n",
    "\n",
    "4. import json ---> https://www.geeksforgeeks.org/python/python-json/\n",
    "\n",
    "5. json.dumps() ---> https://www.geeksforgeeks.org/python/json-dumps-in-python/"
   ]
  },
  {
   "cell_type": "code",
   "execution_count": 64,
   "id": "aad7ea06",
   "metadata": {},
   "outputs": [
    {
     "name": "stdout",
     "output_type": "stream",
     "text": [
      "<Response [200]>\n",
      "Connected to Llama API successful\n"
     ]
    }
   ],
   "source": [
    "baseUrl = 'https://api.llama.fi'\n",
    "\n",
    "# Protocols list endpoint with requests\n",
    "protocols = requests.get(baseUrl + '/protocols')\n",
    "print(protocols)\n",
    "\n",
    "# Check if Status is connected \n",
    "if protocols.status_code == 200:\n",
    "    protocols_data = protocols.json()\n",
    "    print(\"Connected to Llama API successful\")\n",
    "else:\n",
    "    print(f\"Error: couldn't connect to Llama API {protocols.status_code}\")"
   ]
  },
  {
   "cell_type": "markdown",
   "id": "2ae76134",
   "metadata": {},
   "source": [
    "### Total of protocols that are avaliable with their names and URL's, also \n",
    "\n",
    "Useful Fields in Each Protocol Object:\n",
    "\n",
    "`name`: Protocol name  \n",
    "\n",
    "`url`: Official website or app URL  \n",
    "\n",
    "`category`: Type of protocol — e.g., DEX, Lending, Yield, CEX, etc.\n",
    "\n",
    "`chainTvls`: Breakdown of TVL (Total Value Locked) per blockchain network\n",
    "\n",
    "`chains`: List of blockchains where the protocol operates\n",
    "\n",
    "`tvl`: Total value locked across all chains (in USD)\n",
    "\n",
    "`twitter`: Twitter handle\n",
    "\n",
    "`audits`: Info about security audits\n",
    "\n",
    "`description`: Short text explaining what the protocol does\n",
    "\n",
    "`slug`: Unique identifier or slug for API calls or URLs\n",
    "\n",
    "`forkedFrom`: If the protocol is a fork of another protocol\n",
    "\n",
    "`listedAt`: Timestamp when the protocol was listed on DeFi Llama"
   ]
  },
  {
   "cell_type": "code",
   "execution_count": 63,
   "id": "f1816fdc",
   "metadata": {},
   "outputs": [
    {
     "name": "stdout",
     "output_type": "stream",
     "text": [
      "Total protocols: 6194\n"
     ]
    }
   ],
   "source": [
    "data = protocols.json()\n",
    "print(f\"Total protocols: {len(data)}\")"
   ]
  },
  {
   "cell_type": "code",
   "execution_count": 68,
   "id": "a14259eb",
   "metadata": {},
   "outputs": [
    {
     "name": "stdout",
     "output_type": "stream",
     "text": [
      "Binance CEX | Link: https://www.binance.com | Category: CEX\n",
      "Lido | Link: https://lido.fi/ | Category: Liquid Staking\n",
      "AAVE V3 | Link: https://aave.com | Category: Lending\n",
      "Bitfinex | Link: https://www.bitfinex.com | Category: CEX\n",
      "OKX | Link: https://www.okx.com | Category: CEX\n",
      "Robinhood | Link: https://robinhood.com | Category: CEX\n",
      "Bybit | Link: https://www.bybit.com | Category: CEX\n",
      "EigenLayer | Link: https://www.eigenlayer.xyz/ | Category: Restaking\n",
      "WBTC | Link: https://wbtc.network/ | Category: Bridge\n",
      "Binance staked ETH | Link: https://www.binance.com/en/wbeth | Category: Liquid Staking\n"
     ]
    }
   ],
   "source": [
    "# Example: data[:10] for listing only top 10 protocols \n",
    " \n",
    "for protocols in data[:10]:\n",
    "    name = protocols.get('name', 'No Name')\n",
    "    url = protocols.get('url', 'No URL')\n",
    "    category = protocols.get('category', 'No Category')\n",
    "    print(f\"{name} | Link: {url} | Category: {category}\")"
   ]
  },
  {
   "cell_type": "markdown",
   "id": "7f09b204",
   "metadata": {},
   "source": [
    "### List of all attributes and methods available on below"
   ]
  },
  {
   "cell_type": "code",
   "execution_count": null,
   "id": "e85b0b46",
   "metadata": {},
   "outputs": [
    {
     "data": {
      "text/plain": [
       "['__class__',\n",
       " '__class_getitem__',\n",
       " '__contains__',\n",
       " '__delattr__',\n",
       " '__delitem__',\n",
       " '__dir__',\n",
       " '__doc__',\n",
       " '__eq__',\n",
       " '__format__',\n",
       " '__ge__',\n",
       " '__getattribute__',\n",
       " '__getitem__',\n",
       " '__getstate__',\n",
       " '__gt__',\n",
       " '__hash__',\n",
       " '__init__',\n",
       " '__init_subclass__',\n",
       " '__ior__',\n",
       " '__iter__',\n",
       " '__le__',\n",
       " '__len__',\n",
       " '__lt__',\n",
       " '__ne__',\n",
       " '__new__',\n",
       " '__or__',\n",
       " '__reduce__',\n",
       " '__reduce_ex__',\n",
       " '__repr__',\n",
       " '__reversed__',\n",
       " '__ror__',\n",
       " '__setattr__',\n",
       " '__setitem__',\n",
       " '__sizeof__',\n",
       " '__str__',\n",
       " '__subclasshook__',\n",
       " 'clear',\n",
       " 'copy',\n",
       " 'fromkeys',\n",
       " 'get',\n",
       " 'items',\n",
       " 'keys',\n",
       " 'pop',\n",
       " 'popitem',\n",
       " 'setdefault',\n",
       " 'update',\n",
       " 'values']"
      ]
     },
     "execution_count": 69,
     "metadata": {},
     "output_type": "execute_result"
    }
   ],
   "source": [
    "#1 - All the attributes and methods of the object (protocols)\n",
    "# Protocols is a Response object returned by the requests 'requests.get' library: \n",
    "dir(protocols)"
   ]
  },
  {
   "cell_type": "code",
   "execution_count": null,
   "id": "015c39ef",
   "metadata": {},
   "outputs": [
    {
     "name": "stdout",
     "output_type": "stream",
     "text": [
      "{\n",
      "  \"id\": \"2269\",\n",
      "  \"name\": \"Binance CEX\",\n",
      "  \"address\": null,\n",
      "  \"symbol\": \"-\",\n",
      "  \"url\": \"https://www.binance.com\",\n",
      "  \"description\": \"Binance is a cryptocurrency exchange which is the largest exchange in the world in terms of daily trading volume of cryptocurrencies\",\n",
      "  \"chain\": \"Multi-Chain\",\n",
      "  \"logo\": \"https://icons.llama.fi/binance-cex.jpg\",\n",
      "  \"audits\": \"0\",\n",
      "  \"audit_note\": null,\n",
      "  \"gecko_id\": null,\n",
      "  \"cmcId\": null,\n",
      "  \"category\": \"CEX\",\n",
      "  \"chains\": [\n",
      "    \"Bitcoin\",\n",
      "    \"Ethereum\",\n",
      "    \"Binance\",\n",
      "    \"Tron\",\n",
      "    \"Solana\",\n",
      "    \"Ripple\",\n",
      "    \"Doge\",\n",
      "    \"Litecoin\",\n",
      "    \"Base\",\n",
      "    \"Hedera\",\n",
      "    \"Arbitrum\",\n",
      "    \"Avalanche\",\n",
      "    \"Polkadot\",\n",
      "    \"Polygon\",\n",
      "    \"Near\",\n",
      "    \"Optimism\",\n",
      "    \"Sonic\",\n",
      "    \"Stellar\",\n",
      "    \"TON\",\n",
      "    \"Algorand\",\n",
      "    \"Chiliz\",\n",
      "    \"Celo\",\n",
      "    \"Op_Bnb\",\n",
      "    \"Scroll\",\n",
      "    \"Aptos\",\n",
      "    \"Ronin\",\n",
      "    \"zkSync Era\",\n",
      "    \"Sui\",\n",
      "    \"Starknet\",\n",
      "    \"Manta\"\n",
      "  ],\n",
      "  \"module\": \"binance/index.js\",\n",
      "  \"twitter\": \"binance\",\n",
      "  \"forkedFrom\": [],\n",
      "  \"listedAt\": 1668170565,\n",
      "  \"methodology\": \"We collect the wallets from this binance blog post https://www.binance.com/en/blog/community/our-commitment-to-transparency-2895840147147652626. We are not counting the Binance Recovery Fund wallet\",\n",
      "  \"slug\": \"binance-cex\",\n",
      "  \"tvl\": 184321080013.86276,\n",
      "  \"chainTvls\": {\n",
      "    \"Algorand\": 205746294.8416201,\n",
      "    \"Aptos\": 26188437.04961291,\n",
      "    \"Hedera\": 766301030.777245,\n",
      "    \"Chiliz\": 66647191.55912434,\n",
      "    \"Scroll\": 31445717.041898996,\n",
      "    \"Sui\": 1164516.5636041793,\n",
      "    \"Ripple\": 7935065637.751538,\n",
      "    \"Op_Bnb\": 33915693.082244135,\n",
      "    \"Near\": 318714434.9592783,\n",
      "    \"Starknet\": 1110449.7007728373,\n",
      "    \"zkSync Era\": 2746430.948420515,\n",
      "    \"Sonic\": 250909697.58836246,\n",
      "    \"Celo\": 48657498.989430636,\n",
      "    \"Litecoin\": 866851816.6315538,\n",
      "    \"Manta\": 384399.63775391213,\n",
      "    \"Ronin\": 12848071.414648082,\n",
      "    \"Stellar\": 231497452.90449685,\n",
      "    \"Ethereum\": 55447268750.138794,\n",
      "    \"Optimism\": 297128310.5479931,\n",
      "    \"Base\": 782350216.7476493,\n",
      "    \"Arbitrum\": 729701331.3008938,\n",
      "    \"Polygon\": 535377571.23168623,\n",
      "    \"Tron\": 9302958675.650045,\n",
      "    \"Avalanche\": 690318464.6966183,\n",
      "    \"Binance\": 28366651397.984905,\n",
      "    \"Solana\": 7935593478.477149,\n",
      "    \"Polkadot\": 558074094.8105757,\n",
      "    \"Bitcoin\": 64761093688.09226,\n",
      "    \"TON\": 219251666.12822652,\n",
      "    \"Doge\": 3895117596.61435\n",
      "  },\n",
      "  \"change_1h\": 0.022249256364091252,\n",
      "  \"change_1d\": -1.3154249459639118,\n",
      "  \"change_7d\": -0.5162811594019701,\n",
      "  \"tokenBreakdowns\": {},\n",
      "  \"mcap\": null\n",
      "}\n"
     ]
    }
   ],
   "source": [
    "#2 To see more JSON response list of dicts (protocols) input number lists:\n",
    "\n",
    "data = (protocols.json()) \n",
    "\n",
    "print(json.dumps(data[0],  # shows only first protocol\n",
    "                 indent=2))  "
   ]
  },
  {
   "cell_type": "code",
   "execution_count": null,
   "id": "2b4328ec",
   "metadata": {},
   "outputs": [
    {
     "name": "stdout",
     "output_type": "stream",
     "text": [
      "dict_keys(['id', 'name', 'address', 'symbol', 'url', 'description', 'chain', 'logo', 'audits', 'audit_note', 'gecko_id', 'cmcId', 'category', 'chains', 'module', 'twitter', 'forkedFrom', 'listedAt', 'methodology', 'slug', 'tvl', 'chainTvls', 'change_1h', 'change_1d', 'change_7d', 'tokenBreakdowns', 'mcap'])\n"
     ]
    }
   ],
   "source": [
    "#3 Check what data (keys) are available for each protocol in the API to explore further:\n",
    "\n",
    "print(protocols.json()[0].keys())"
   ]
  },
  {
   "cell_type": "markdown",
   "id": "bab5a963",
   "metadata": {},
   "source": [
    "`['chainTvls']` shows the Total Value Locked (TVL) per blockchain for the protocol and how much value a protocol has locked on each individual network it operates on.\n",
    "\n",
    "In this case it's going to be Binance CEX since it's `[0]` (first one) on the list, but always double check the order can change on Llama DeFi protocols and CEXs\n",
    "\n",
    "Better to check the protocol's actual name and category early... "
   ]
  },
  {
   "cell_type": "code",
   "execution_count": 61,
   "id": "00946566",
   "metadata": {},
   "outputs": [
    {
     "name": "stdout",
     "output_type": "stream",
     "text": [
      "{\n",
      "  \"Algorand\": 206059433.5463947,\n",
      "  \"Scroll\": 31637813.31534082,\n",
      "  \"Hedera\": 764001426.245775,\n",
      "  \"Sui\": 1167510.1793331527,\n",
      "  \"Aptos\": 26409085.780936155,\n",
      "  \"Sonic\": 252912965.6280589,\n",
      "  \"Op_Bnb\": 33830817.9553677,\n",
      "  \"Ronin\": 12959214.775817819,\n",
      "  \"Chiliz\": 67106700.15581553,\n",
      "  \"Base\": 789852520.4681569,\n",
      "  \"Starknet\": 1118005.3447074255,\n",
      "  \"Ripple\": 7985663530.727951,\n",
      "  \"Stellar\": 231622413.0278335,\n",
      "  \"Litecoin\": 872762189.7334605,\n",
      "  \"Polygon\": 533120077.4114449,\n",
      "  \"Manta\": 386726.80386365217,\n",
      "  \"Near\": 322518352.71878594,\n",
      "  \"Arbitrum\": 733619057.330672,\n",
      "  \"Optimism\": 301095750.24494284,\n",
      "  \"Celo\": 49094069.59627331,\n",
      "  \"Tron\": 9231905647.200893,\n",
      "  \"Ethereum\": 55703062126.988625,\n",
      "  \"zkSync Era\": 2762712.5597387212,\n",
      "  \"Avalanche\": 684417793.0072423,\n",
      "  \"Binance\": 28328080135.90338,\n",
      "  \"Polkadot\": 562115187.0265218,\n",
      "  \"Solana\": 7931466041.383664,\n",
      "  \"TON\": 220404250.7946484,\n",
      "  \"Bitcoin\": 64925442919.74405,\n",
      "  \"Doge\": 3934402213.1282225\n",
      "}\n"
     ]
    }
   ],
   "source": [
    "protocol = protocols.json()[0]\n",
    "\n",
    "chain_tvls = protocol['chainTvls']\n",
    "\n",
    "print(json.dumps(chain_tvls, \n",
    "                 indent = 2))"
   ]
  }
 ],
 "metadata": {
  "kernelspec": {
   "display_name": "base",
   "language": "python",
   "name": "python3"
  },
  "language_info": {
   "codemirror_mode": {
    "name": "ipython",
    "version": 3
   },
   "file_extension": ".py",
   "mimetype": "text/x-python",
   "name": "python",
   "nbconvert_exporter": "python",
   "pygments_lexer": "ipython3",
   "version": "3.12.7"
  }
 },
 "nbformat": 4,
 "nbformat_minor": 5
}
